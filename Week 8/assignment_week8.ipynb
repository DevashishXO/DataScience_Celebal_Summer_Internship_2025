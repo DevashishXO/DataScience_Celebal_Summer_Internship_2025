{
 "cells": [
  {
   "cell_type": "markdown",
   "id": "c995ff8e",
   "metadata": {},
   "source": [
    "## **Assignment - Week 8**\n",
    "\n",
    "#### **Problem Statement**\n",
    "Build a RAG Q&A chatbot using document retrieval and generative AI for intelligent response generation.\n",
    "\n",
    "#### **Resources**\n",
    "[Kaggle] https://www.kaggle.com/datasets/sonalisingh1411/loan-approval-prediction?select=Training+Dataset.csv"
   ]
  },
  {
   "cell_type": "code",
   "execution_count": 9,
   "id": "4d4657e1",
   "metadata": {},
   "outputs": [
    {
     "name": "stdout",
     "output_type": "stream",
     "text": [
      "    Loan_ID Gender Married Dependents     Education Self_Employed  \\\n",
      "0  LP001002   Male      No          0      Graduate            No   \n",
      "1  LP001003   Male     Yes          1      Graduate            No   \n",
      "2  LP001005   Male     Yes          0      Graduate           Yes   \n",
      "3  LP001006   Male     Yes          0  Not Graduate            No   \n",
      "4  LP001008   Male      No          0      Graduate            No   \n",
      "\n",
      "   ApplicantIncome  CoapplicantIncome  LoanAmount  Loan_Amount_Term  \\\n",
      "0             5849                0.0         NaN             360.0   \n",
      "1             4583             1508.0       128.0             360.0   \n",
      "2             3000                0.0        66.0             360.0   \n",
      "3             2583             2358.0       120.0             360.0   \n",
      "4             6000                0.0       141.0             360.0   \n",
      "\n",
      "   Credit_History Property_Area Loan_Status  \n",
      "0             1.0         Urban           Y  \n",
      "1             1.0         Rural           N  \n",
      "2             1.0         Urban           Y  \n",
      "3             1.0         Urban           Y  \n",
      "4             1.0         Urban           Y  \n",
      "Loan_ID               0\n",
      "Gender               13\n",
      "Married               3\n",
      "Dependents           15\n",
      "Education             0\n",
      "Self_Employed        32\n",
      "ApplicantIncome       0\n",
      "CoapplicantIncome     0\n",
      "LoanAmount           22\n",
      "Loan_Amount_Term     14\n",
      "Credit_History       50\n",
      "Property_Area         0\n",
      "Loan_Status           0\n",
      "dtype: int64\n"
     ]
    }
   ],
   "source": [
    "import pandas as pd\n",
    "\n",
    "df = pd.read_csv(\"rag_chatbot/data/train.csv\")\n",
    "print(df.head())\n",
    "print(df.isnull().sum())\n"
   ]
  },
  {
   "cell_type": "code",
   "execution_count": 10,
   "id": "6261069c",
   "metadata": {},
   "outputs": [],
   "source": [
    "# Filling categorical columns with mode\n",
    "for col in ['Gender', 'Married', 'Dependents', 'Self_Employed', 'Credit_History']:\n",
    "    df[col] = df[col].fillna(df[col].mode()[0])\n",
    "\n",
    "# Filling numerical columns with median\n",
    "for col in ['LoanAmount', 'Loan_Amount_Term']:\n",
    "    df[col] = df[col].fillna(df[col].median())"
   ]
  },
  {
   "cell_type": "code",
   "execution_count": 11,
   "id": "b4fc8bfa",
   "metadata": {},
   "outputs": [],
   "source": [
    "# Converting all relevant fields to strings to avoid errors\n",
    "for col in ['Gender', 'Married', 'Dependents', 'Education', 'Self_Employed', \n",
    "            'Property_Area', 'Loan_Status']:\n",
    "    df[col] = df[col].astype(str)\n"
   ]
  },
  {
   "cell_type": "code",
   "execution_count": null,
   "id": "b7a0b5e5",
   "metadata": {},
   "outputs": [
    {
     "data": {
      "text/plain": [
       "'Loan ID LP002505 was applied by a married male graduate with 0 dependents. The applicant has an income of ₹4333 and co-applicant income of ₹2451.0. The loan amount requested was ₹110.0 with a term of 360.0 months. The credit history is good. The property area is urban. The loan was not approved.'"
      ]
     },
     "execution_count": 12,
     "metadata": {},
     "output_type": "execute_result"
    }
   ],
   "source": [
    "def row_to_text(row):\n",
    "    return (\n",
    "        f\"Loan ID {row['Loan_ID']} was applied by \"\n",
    "        f\"{'a married' if row['Married'] == 'Yes' else 'an unmarried'} \"\n",
    "        f\"{row['Gender'].lower()} \"\n",
    "        f\"{'graduate' if row['Education'] == 'Graduate' else 'not graduate'} \"\n",
    "        f\"with {row['Dependents']} dependents. \"\n",
    "        f\"The applicant has an income of ₹{row['ApplicantIncome']} and \"\n",
    "        f\"co-applicant income of ₹{row['CoapplicantIncome']}. \"\n",
    "        f\"The loan amount requested was ₹{row['LoanAmount']} with a term of {row['Loan_Amount_Term']} months. \"\n",
    "        f\"The credit history is {'good' if row['Credit_History'] == 1.0 else 'bad'}. \"\n",
    "        f\"The property area is {row['Property_Area'].lower()}. \"\n",
    "        f\"The loan was {'approved' if row['Loan_Status'] == 'Y' else 'not approved'}.\"\n",
    "    )\n",
    "\n",
    "df[\"doc_text\"] = df.apply(row_to_text, axis=1)\n",
    "# Sample text from the dataframe\n",
    "df[\"doc_text\"].sample(1).values[0]\n"
   ]
  }
 ],
 "metadata": {
  "kernelspec": {
   "display_name": "Python 3",
   "language": "python",
   "name": "python3"
  },
  "language_info": {
   "codemirror_mode": {
    "name": "ipython",
    "version": 3
   },
   "file_extension": ".py",
   "mimetype": "text/x-python",
   "name": "python",
   "nbconvert_exporter": "python",
   "pygments_lexer": "ipython3",
   "version": "3.12.4"
  }
 },
 "nbformat": 4,
 "nbformat_minor": 5
}
